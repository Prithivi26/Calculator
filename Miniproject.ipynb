{
 "cells": [
  {
   "cell_type": "code",
   "execution_count": 2,
   "id": "63a53767-2abb-4c93-a970-b7b0b019327a",
   "metadata": {},
   "outputs": [
    {
     "name": "stdin",
     "output_type": "stream",
     "text": [
      "enter value: 62\n",
      "enter value: 19\n"
     ]
    },
    {
     "name": "stdout",
     "output_type": "stream",
     "text": [
      "\n",
      "select your option:1.Addition,2.Subtraction,3.Multiplication,4.Division,5.Modulus,6.Exponentiation,7.Exit\n"
     ]
    },
    {
     "name": "stdin",
     "output_type": "stream",
     "text": [
      "\n",
      "enter your option: 1\n"
     ]
    },
    {
     "name": "stdout",
     "output_type": "stream",
     "text": [
      "Addition: 81\n",
      "\n",
      "select your option:1.Addition,2.Subtraction,3.Multiplication,4.Division,5.Modulus,6.Exponentiation,7.Exit\n"
     ]
    },
    {
     "name": "stdin",
     "output_type": "stream",
     "text": [
      "\n",
      "enter your option: 2\n"
     ]
    },
    {
     "name": "stdout",
     "output_type": "stream",
     "text": [
      "Subtraction: 43\n",
      "\n",
      "select your option:1.Addition,2.Subtraction,3.Multiplication,4.Division,5.Modulus,6.Exponentiation,7.Exit\n"
     ]
    },
    {
     "name": "stdin",
     "output_type": "stream",
     "text": [
      "\n",
      "enter your option: 3\n"
     ]
    },
    {
     "name": "stdout",
     "output_type": "stream",
     "text": [
      "Multiplication: 1178\n",
      "\n",
      "select your option:1.Addition,2.Subtraction,3.Multiplication,4.Division,5.Modulus,6.Exponentiation,7.Exit\n"
     ]
    },
    {
     "name": "stdin",
     "output_type": "stream",
     "text": [
      "\n",
      "enter your option: 4\n"
     ]
    },
    {
     "name": "stdout",
     "output_type": "stream",
     "text": [
      "Division: 3.263157894736842\n",
      "\n",
      "select your option:1.Addition,2.Subtraction,3.Multiplication,4.Division,5.Modulus,6.Exponentiation,7.Exit\n"
     ]
    },
    {
     "name": "stdin",
     "output_type": "stream",
     "text": [
      "\n",
      "enter your option: 5\n"
     ]
    },
    {
     "name": "stdout",
     "output_type": "stream",
     "text": [
      "Modulus 5\n",
      "\n",
      "select your option:1.Addition,2.Subtraction,3.Multiplication,4.Division,5.Modulus,6.Exponentiation,7.Exit\n"
     ]
    },
    {
     "name": "stdin",
     "output_type": "stream",
     "text": [
      "\n",
      "enter your option: 6\n"
     ]
    },
    {
     "name": "stdout",
     "output_type": "stream",
     "text": [
      "Exponentiation: 11361668153983839080134359106715648\n",
      "\n",
      "select your option:1.Addition,2.Subtraction,3.Multiplication,4.Division,5.Modulus,6.Exponentiation,7.Exit\n"
     ]
    },
    {
     "name": "stdin",
     "output_type": "stream",
     "text": [
      "\n",
      "enter your option: 10\n"
     ]
    },
    {
     "name": "stdout",
     "output_type": "stream",
     "text": [
      "Invalid option\n",
      "\n",
      "select your option:1.Addition,2.Subtraction,3.Multiplication,4.Division,5.Modulus,6.Exponentiation,7.Exit\n"
     ]
    },
    {
     "name": "stdin",
     "output_type": "stream",
     "text": [
      "\n",
      "enter your option: 7\n"
     ]
    }
   ],
   "source": [
    "A = int(input(\"enter value:\"))\n",
    "B = int(input(\"enter value:\"))\n",
    "\n",
    "def Addition(A,B):\n",
    "    print(\"Addition:\",A+B)\n",
    "\n",
    "def Subtraction(A,B):\n",
    "    print(\"Subtraction:\",A-B)\n",
    "    \n",
    "def Multiplication(A,B):\n",
    "    print(\"Multiplication:\",A*B)\n",
    "\n",
    "def Division(A,B):\n",
    "    print(\"Division:\",A/B)\n",
    "\n",
    "def Modulus(A,B):\n",
    "    print(\"Modulus\",A%B)\n",
    "\n",
    "def Exponentiation(A,B):\n",
    "    print(\"Exponentiation:\",A**B)\n",
    "\n",
    "while True:\n",
    "    print(\"\\nselect your option:1.Addition,2.Subtraction,3.Multiplication,4.Division,5.Modulus,6.Exponentiation,7.Exit\")\n",
    "    choice = int(input(\"\\nenter your option:\"))\n",
    "    \n",
    "    if choice ==1:\n",
    "        Addition(A,B)\n",
    "    elif choice ==2:\n",
    "        Subtraction(A,B)\n",
    "    elif choice ==3:\n",
    "        Multiplication(A,B)\n",
    "    elif choice ==4:\n",
    "        Division(A,B)\n",
    "    elif choice ==5:\n",
    "        Modulus(A,B)\n",
    "    elif choice ==6:\n",
    "        Exponentiation(A,B)\n",
    "    elif choice==7:\n",
    "        break\n",
    "    else:\n",
    "        print(\"Invalid option\")\n",
    "        "
   ]
  },
  {
   "cell_type": "code",
   "execution_count": null,
   "id": "a97608a7-4ef7-4a6b-84c8-58147a3a036d",
   "metadata": {},
   "outputs": [],
   "source": []
  }
 ],
 "metadata": {
  "kernelspec": {
   "display_name": "Python 3 (ipykernel)",
   "language": "python",
   "name": "python3"
  },
  "language_info": {
   "codemirror_mode": {
    "name": "ipython",
    "version": 3
   },
   "file_extension": ".py",
   "mimetype": "text/x-python",
   "name": "python",
   "nbconvert_exporter": "python",
   "pygments_lexer": "ipython3",
   "version": "3.11.4"
  }
 },
 "nbformat": 4,
 "nbformat_minor": 5
}
